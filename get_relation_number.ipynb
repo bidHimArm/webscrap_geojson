{
 "cells": [
  {
   "cell_type": "code",
   "execution_count": 1,
   "metadata": {},
   "outputs": [],
   "source": [
    "import requests\n",
    "import urllib.request\n",
    "import time\n",
    "import re\n",
    "import os\n",
    "import sys\n",
    "import pandas as pd\n",
    "import numpy as np\n",
    "from bs4 import BeautifulSoup\n",
    "# import progressbar\n",
    "from tqdm import tqdm, tqdm_notebook"
   ]
  },
  {
   "cell_type": "code",
   "execution_count": 5,
   "metadata": {},
   "outputs": [],
   "source": [
    "from selenium.webdriver import ChromeOptions\n",
    "from selenium.webdriver import Chrome\n",
    "from selenium.webdriver.chrome.options import Options\n",
    "\n",
    "\n",
    "#PROJECT_ROOT = os.path.abspath(os.path.dirname('__file__'))\n",
    "#DRIVER_BIN = os.path.join(PROJECT_ROOT, \"/usr/local/bin/chromedriver\")"
   ]
  },
  {
   "cell_type": "code",
   "execution_count": 13,
   "metadata": {},
   "outputs": [
    {
     "data": {
      "text/html": [
       "<div>\n",
       "<style scoped>\n",
       "    .dataframe tbody tr th:only-of-type {\n",
       "        vertical-align: middle;\n",
       "    }\n",
       "\n",
       "    .dataframe tbody tr th {\n",
       "        vertical-align: top;\n",
       "    }\n",
       "\n",
       "    .dataframe thead th {\n",
       "        text-align: right;\n",
       "    }\n",
       "</style>\n",
       "<table border=\"1\" class=\"dataframe\">\n",
       "  <thead>\n",
       "    <tr style=\"text-align: right;\">\n",
       "      <th></th>\n",
       "      <th>Phone number</th>\n",
       "      <th>Fax</th>\n",
       "      <th>Email</th>\n",
       "      <th>Website</th>\n",
       "      <th>Address</th>\n",
       "      <th>locality</th>\n",
       "      <th>administrative_area_level_2</th>\n",
       "      <th>administrative_area_level_1</th>\n",
       "      <th>country</th>\n",
       "    </tr>\n",
       "  </thead>\n",
       "  <tbody>\n",
       "    <tr>\n",
       "      <td>0</td>\n",
       "      <td>049 36 74 18</td>\n",
       "      <td>049 96 72 89</td>\n",
       "      <td>www.communeadrar@hotmail.com</td>\n",
       "      <td>communeadrar.dz</td>\n",
       "      <td>ADRAR</td>\n",
       "      <td>Adrar</td>\n",
       "      <td>Adrar</td>\n",
       "      <td>Adrar</td>\n",
       "      <td>Algeria</td>\n",
       "    </tr>\n",
       "    <tr>\n",
       "      <td>1</td>\n",
       "      <td>049.94.61.61</td>\n",
       "      <td>049.94.61.62</td>\n",
       "      <td>tamesttm@gmail.com</td>\n",
       "      <td>NaN</td>\n",
       "      <td>TAMEST</td>\n",
       "      <td>Tamest</td>\n",
       "      <td>Fenoughil</td>\n",
       "      <td>Adrar</td>\n",
       "      <td>Algeria</td>\n",
       "    </tr>\n",
       "    <tr>\n",
       "      <td>2</td>\n",
       "      <td>049.90.62.01</td>\n",
       "      <td>049.90.64.07</td>\n",
       "      <td>apccharouine@gmail.com</td>\n",
       "      <td>NaN</td>\n",
       "      <td>CHAROUINE</td>\n",
       "      <td>Charouine</td>\n",
       "      <td>Charouine</td>\n",
       "      <td>Adrar</td>\n",
       "      <td>Algeria</td>\n",
       "    </tr>\n",
       "    <tr>\n",
       "      <td>3</td>\n",
       "      <td>049.97.00.70</td>\n",
       "      <td>049.97.04.89</td>\n",
       "      <td>communereggane@gmail.com</td>\n",
       "      <td>NaN</td>\n",
       "      <td>REGGANE</td>\n",
       "      <td>Reggane</td>\n",
       "      <td>Reggane</td>\n",
       "      <td>Adrar</td>\n",
       "      <td>Algeria</td>\n",
       "    </tr>\n",
       "    <tr>\n",
       "      <td>4</td>\n",
       "      <td>049 97 24 97</td>\n",
       "      <td>049 97 23 87</td>\n",
       "      <td>commune.inzegmir.adrar@gmail.com</td>\n",
       "      <td>NaN</td>\n",
       "      <td>TIDMAIN</td>\n",
       "      <td>In Zghmir</td>\n",
       "      <td>Zaouiat Kounta</td>\n",
       "      <td>Adrar</td>\n",
       "      <td>Algeria</td>\n",
       "    </tr>\n",
       "  </tbody>\n",
       "</table>\n",
       "</div>"
      ],
      "text/plain": [
       "   Phone number           Fax                             Email  \\\n",
       "0  049 36 74 18  049 96 72 89      www.communeadrar@hotmail.com   \n",
       "1  049.94.61.61  049.94.61.62                tamesttm@gmail.com   \n",
       "2  049.90.62.01  049.90.64.07            apccharouine@gmail.com   \n",
       "3  049.97.00.70  049.97.04.89          communereggane@gmail.com   \n",
       "4  049 97 24 97  049 97 23 87  commune.inzegmir.adrar@gmail.com   \n",
       "\n",
       "           Website    Address   locality administrative_area_level_2  \\\n",
       "0  communeadrar.dz      ADRAR      Adrar                       Adrar   \n",
       "1              NaN     TAMEST     Tamest                   Fenoughil   \n",
       "2              NaN  CHAROUINE  Charouine                   Charouine   \n",
       "3              NaN    REGGANE    Reggane                     Reggane   \n",
       "4              NaN    TIDMAIN  In Zghmir              Zaouiat Kounta   \n",
       "\n",
       "  administrative_area_level_1  country  \n",
       "0                       Adrar  Algeria  \n",
       "1                       Adrar  Algeria  \n",
       "2                       Adrar  Algeria  \n",
       "3                       Adrar  Algeria  \n",
       "4                       Adrar  Algeria  "
      ]
     },
     "execution_count": 13,
     "metadata": {},
     "output_type": "execute_result"
    }
   ],
   "source": [
    "cities_list = pd.read_csv(\"list_cities.csv\")\n",
    "cities_list.head()"
   ]
  },
  {
   "cell_type": "code",
   "execution_count": 14,
   "metadata": {},
   "outputs": [
    {
     "data": {
      "text/html": [
       "<div>\n",
       "<style scoped>\n",
       "    .dataframe tbody tr th:only-of-type {\n",
       "        vertical-align: middle;\n",
       "    }\n",
       "\n",
       "    .dataframe tbody tr th {\n",
       "        vertical-align: top;\n",
       "    }\n",
       "\n",
       "    .dataframe thead th {\n",
       "        text-align: right;\n",
       "    }\n",
       "</style>\n",
       "<table border=\"1\" class=\"dataframe\">\n",
       "  <thead>\n",
       "    <tr style=\"text-align: right;\">\n",
       "      <th></th>\n",
       "      <th>Phone number</th>\n",
       "      <th>Fax</th>\n",
       "      <th>Email</th>\n",
       "      <th>Website</th>\n",
       "      <th>Address</th>\n",
       "      <th>locality</th>\n",
       "      <th>administrative_area_level_2</th>\n",
       "      <th>administrative_area_level_1</th>\n",
       "      <th>country</th>\n",
       "      <th>relation_number</th>\n",
       "    </tr>\n",
       "  </thead>\n",
       "  <tbody>\n",
       "    <tr>\n",
       "      <td>0</td>\n",
       "      <td>049 36 74 18</td>\n",
       "      <td>049 96 72 89</td>\n",
       "      <td>www.communeadrar@hotmail.com</td>\n",
       "      <td>communeadrar.dz</td>\n",
       "      <td>ADRAR</td>\n",
       "      <td>Adrar</td>\n",
       "      <td>Adrar</td>\n",
       "      <td>Adrar</td>\n",
       "      <td>Algeria</td>\n",
       "      <td>failed !</td>\n",
       "    </tr>\n",
       "    <tr>\n",
       "      <td>1</td>\n",
       "      <td>049.94.61.61</td>\n",
       "      <td>049.94.61.62</td>\n",
       "      <td>tamesttm@gmail.com</td>\n",
       "      <td>NaN</td>\n",
       "      <td>TAMEST</td>\n",
       "      <td>Tamest</td>\n",
       "      <td>Fenoughil</td>\n",
       "      <td>Adrar</td>\n",
       "      <td>Algeria</td>\n",
       "      <td>failed !</td>\n",
       "    </tr>\n",
       "    <tr>\n",
       "      <td>2</td>\n",
       "      <td>049.90.62.01</td>\n",
       "      <td>049.90.64.07</td>\n",
       "      <td>apccharouine@gmail.com</td>\n",
       "      <td>NaN</td>\n",
       "      <td>CHAROUINE</td>\n",
       "      <td>Charouine</td>\n",
       "      <td>Charouine</td>\n",
       "      <td>Adrar</td>\n",
       "      <td>Algeria</td>\n",
       "      <td>failed !</td>\n",
       "    </tr>\n",
       "    <tr>\n",
       "      <td>3</td>\n",
       "      <td>049.97.00.70</td>\n",
       "      <td>049.97.04.89</td>\n",
       "      <td>communereggane@gmail.com</td>\n",
       "      <td>NaN</td>\n",
       "      <td>REGGANE</td>\n",
       "      <td>Reggane</td>\n",
       "      <td>Reggane</td>\n",
       "      <td>Adrar</td>\n",
       "      <td>Algeria</td>\n",
       "      <td>failed !</td>\n",
       "    </tr>\n",
       "    <tr>\n",
       "      <td>4</td>\n",
       "      <td>049 97 24 97</td>\n",
       "      <td>049 97 23 87</td>\n",
       "      <td>commune.inzegmir.adrar@gmail.com</td>\n",
       "      <td>NaN</td>\n",
       "      <td>TIDMAIN</td>\n",
       "      <td>In Zghmir</td>\n",
       "      <td>Zaouiat Kounta</td>\n",
       "      <td>Adrar</td>\n",
       "      <td>Algeria</td>\n",
       "      <td>failed !</td>\n",
       "    </tr>\n",
       "  </tbody>\n",
       "</table>\n",
       "</div>"
      ],
      "text/plain": [
       "   Phone number           Fax                             Email  \\\n",
       "0  049 36 74 18  049 96 72 89      www.communeadrar@hotmail.com   \n",
       "1  049.94.61.61  049.94.61.62                tamesttm@gmail.com   \n",
       "2  049.90.62.01  049.90.64.07            apccharouine@gmail.com   \n",
       "3  049.97.00.70  049.97.04.89          communereggane@gmail.com   \n",
       "4  049 97 24 97  049 97 23 87  commune.inzegmir.adrar@gmail.com   \n",
       "\n",
       "           Website    Address   locality administrative_area_level_2  \\\n",
       "0  communeadrar.dz      ADRAR      Adrar                       Adrar   \n",
       "1              NaN     TAMEST     Tamest                   Fenoughil   \n",
       "2              NaN  CHAROUINE  Charouine                   Charouine   \n",
       "3              NaN    REGGANE    Reggane                     Reggane   \n",
       "4              NaN    TIDMAIN  In Zghmir              Zaouiat Kounta   \n",
       "\n",
       "  administrative_area_level_1  country relation_number  \n",
       "0                       Adrar  Algeria        failed !  \n",
       "1                       Adrar  Algeria        failed !  \n",
       "2                       Adrar  Algeria        failed !  \n",
       "3                       Adrar  Algeria        failed !  \n",
       "4                       Adrar  Algeria        failed !  "
      ]
     },
     "execution_count": 14,
     "metadata": {},
     "output_type": "execute_result"
    }
   ],
   "source": [
    "cities_list_new = cities_list\n",
    "cities_list_new[\"relation_number\"]=\"failed !\"\n",
    "cities_list_new.head()"
   ]
  },
  {
   "cell_type": "code",
   "execution_count": null,
   "metadata": {},
   "outputs": [
    {
     "data": {
      "application/vnd.jupyter.widget-view+json": {
       "model_id": "08f4ca206c6d468e839968b0f0e20a03",
       "version_major": 2,
       "version_minor": 0
      },
      "text/plain": [
       "HBox(children=(IntProgress(value=0, max=1536), HTML(value='')))"
      ]
     },
     "metadata": {},
     "output_type": "display_data"
    },
    {
     "name": "stderr",
     "output_type": "stream",
     "text": [
      "/opt/anaconda3/lib/python3.7/site-packages/ipykernel_launcher.py:8: DeprecationWarning: use setter for headless property instead of set_headless\n",
      "  \n",
      "/opt/anaconda3/lib/python3.7/site-packages/ipykernel_launcher.py:8: DeprecationWarning: use setter for headless property instead of set_headless\n",
      "  \n",
      "/opt/anaconda3/lib/python3.7/site-packages/ipykernel_launcher.py:8: DeprecationWarning: use setter for headless property instead of set_headless\n",
      "  \n",
      "/opt/anaconda3/lib/python3.7/site-packages/ipykernel_launcher.py:8: DeprecationWarning: use setter for headless property instead of set_headless\n",
      "  \n",
      "/opt/anaconda3/lib/python3.7/site-packages/ipykernel_launcher.py:8: DeprecationWarning: use setter for headless property instead of set_headless\n",
      "  \n",
      "/opt/anaconda3/lib/python3.7/site-packages/ipykernel_launcher.py:8: DeprecationWarning: use setter for headless property instead of set_headless\n",
      "  \n",
      "/opt/anaconda3/lib/python3.7/site-packages/ipykernel_launcher.py:8: DeprecationWarning: use setter for headless property instead of set_headless\n",
      "  \n",
      "/opt/anaconda3/lib/python3.7/site-packages/ipykernel_launcher.py:8: DeprecationWarning: use setter for headless property instead of set_headless\n",
      "  \n",
      "/opt/anaconda3/lib/python3.7/site-packages/ipykernel_launcher.py:8: DeprecationWarning: use setter for headless property instead of set_headless\n",
      "  \n"
     ]
    },
    {
     "name": "stdout",
     "output_type": "stream",
     "text": [
      "Oops! <class 'selenium.common.exceptions.NoSuchElementException'> occured at 8\n",
      "Next entry.\n",
      "\n"
     ]
    },
    {
     "name": "stderr",
     "output_type": "stream",
     "text": [
      "/opt/anaconda3/lib/python3.7/site-packages/ipykernel_launcher.py:8: DeprecationWarning: use setter for headless property instead of set_headless\n",
      "  \n"
     ]
    },
    {
     "name": "stdout",
     "output_type": "stream",
     "text": [
      "Oops! <class 'selenium.common.exceptions.NoSuchElementException'> occured at 9\n",
      "Next entry.\n",
      "\n"
     ]
    },
    {
     "name": "stderr",
     "output_type": "stream",
     "text": [
      "/opt/anaconda3/lib/python3.7/site-packages/ipykernel_launcher.py:8: DeprecationWarning: use setter for headless property instead of set_headless\n",
      "  \n",
      "/opt/anaconda3/lib/python3.7/site-packages/ipykernel_launcher.py:8: DeprecationWarning: use setter for headless property instead of set_headless\n",
      "  \n",
      "/opt/anaconda3/lib/python3.7/site-packages/ipykernel_launcher.py:8: DeprecationWarning: use setter for headless property instead of set_headless\n",
      "  \n",
      "/opt/anaconda3/lib/python3.7/site-packages/ipykernel_launcher.py:8: DeprecationWarning: use setter for headless property instead of set_headless\n",
      "  \n",
      "/opt/anaconda3/lib/python3.7/site-packages/ipykernel_launcher.py:8: DeprecationWarning: use setter for headless property instead of set_headless\n",
      "  \n",
      "/opt/anaconda3/lib/python3.7/site-packages/ipykernel_launcher.py:8: DeprecationWarning: use setter for headless property instead of set_headless\n",
      "  \n",
      "/opt/anaconda3/lib/python3.7/site-packages/ipykernel_launcher.py:8: DeprecationWarning: use setter for headless property instead of set_headless\n",
      "  \n",
      "/opt/anaconda3/lib/python3.7/site-packages/ipykernel_launcher.py:8: DeprecationWarning: use setter for headless property instead of set_headless\n",
      "  \n",
      "/opt/anaconda3/lib/python3.7/site-packages/ipykernel_launcher.py:8: DeprecationWarning: use setter for headless property instead of set_headless\n",
      "  \n",
      "/opt/anaconda3/lib/python3.7/site-packages/ipykernel_launcher.py:8: DeprecationWarning: use setter for headless property instead of set_headless\n",
      "  \n",
      "/opt/anaconda3/lib/python3.7/site-packages/ipykernel_launcher.py:8: DeprecationWarning: use setter for headless property instead of set_headless\n",
      "  \n",
      "/opt/anaconda3/lib/python3.7/site-packages/ipykernel_launcher.py:8: DeprecationWarning: use setter for headless property instead of set_headless\n",
      "  \n",
      "/opt/anaconda3/lib/python3.7/site-packages/ipykernel_launcher.py:8: DeprecationWarning: use setter for headless property instead of set_headless\n",
      "  \n"
     ]
    },
    {
     "name": "stdout",
     "output_type": "stream",
     "text": [
      "Oops! <class 'selenium.common.exceptions.NoSuchElementException'> occured at 22\n",
      "Next entry.\n",
      "\n"
     ]
    },
    {
     "name": "stderr",
     "output_type": "stream",
     "text": [
      "/opt/anaconda3/lib/python3.7/site-packages/ipykernel_launcher.py:8: DeprecationWarning: use setter for headless property instead of set_headless\n",
      "  \n",
      "/opt/anaconda3/lib/python3.7/site-packages/ipykernel_launcher.py:8: DeprecationWarning: use setter for headless property instead of set_headless\n",
      "  \n"
     ]
    },
    {
     "name": "stdout",
     "output_type": "stream",
     "text": [
      "Oops! <class 'selenium.common.exceptions.NoSuchElementException'> occured at 24\n",
      "Next entry.\n",
      "\n"
     ]
    },
    {
     "name": "stderr",
     "output_type": "stream",
     "text": [
      "/opt/anaconda3/lib/python3.7/site-packages/ipykernel_launcher.py:8: DeprecationWarning: use setter for headless property instead of set_headless\n",
      "  \n",
      "/opt/anaconda3/lib/python3.7/site-packages/ipykernel_launcher.py:8: DeprecationWarning: use setter for headless property instead of set_headless\n",
      "  \n",
      "/opt/anaconda3/lib/python3.7/site-packages/ipykernel_launcher.py:8: DeprecationWarning: use setter for headless property instead of set_headless\n",
      "  \n"
     ]
    },
    {
     "name": "stdout",
     "output_type": "stream",
     "text": [
      "Oops! <class 'selenium.common.exceptions.NoSuchElementException'> occured at 27\n",
      "Next entry.\n",
      "\n"
     ]
    },
    {
     "name": "stderr",
     "output_type": "stream",
     "text": [
      "/opt/anaconda3/lib/python3.7/site-packages/ipykernel_launcher.py:8: DeprecationWarning: use setter for headless property instead of set_headless\n",
      "  \n",
      "/opt/anaconda3/lib/python3.7/site-packages/ipykernel_launcher.py:8: DeprecationWarning: use setter for headless property instead of set_headless\n",
      "  \n",
      "/opt/anaconda3/lib/python3.7/site-packages/ipykernel_launcher.py:8: DeprecationWarning: use setter for headless property instead of set_headless\n",
      "  \n",
      "/opt/anaconda3/lib/python3.7/site-packages/ipykernel_launcher.py:8: DeprecationWarning: use setter for headless property instead of set_headless\n",
      "  \n",
      "/opt/anaconda3/lib/python3.7/site-packages/ipykernel_launcher.py:8: DeprecationWarning: use setter for headless property instead of set_headless\n",
      "  \n",
      "/opt/anaconda3/lib/python3.7/site-packages/ipykernel_launcher.py:8: DeprecationWarning: use setter for headless property instead of set_headless\n",
      "  \n",
      "/opt/anaconda3/lib/python3.7/site-packages/ipykernel_launcher.py:8: DeprecationWarning: use setter for headless property instead of set_headless\n",
      "  \n",
      "/opt/anaconda3/lib/python3.7/site-packages/ipykernel_launcher.py:8: DeprecationWarning: use setter for headless property instead of set_headless\n",
      "  \n",
      "/opt/anaconda3/lib/python3.7/site-packages/ipykernel_launcher.py:8: DeprecationWarning: use setter for headless property instead of set_headless\n",
      "  \n",
      "/opt/anaconda3/lib/python3.7/site-packages/ipykernel_launcher.py:8: DeprecationWarning: use setter for headless property instead of set_headless\n",
      "  \n",
      "/opt/anaconda3/lib/python3.7/site-packages/ipykernel_launcher.py:8: DeprecationWarning: use setter for headless property instead of set_headless\n",
      "  \n",
      "/opt/anaconda3/lib/python3.7/site-packages/ipykernel_launcher.py:8: DeprecationWarning: use setter for headless property instead of set_headless\n",
      "  \n",
      "/opt/anaconda3/lib/python3.7/site-packages/ipykernel_launcher.py:8: DeprecationWarning: use setter for headless property instead of set_headless\n",
      "  \n",
      "/opt/anaconda3/lib/python3.7/site-packages/ipykernel_launcher.py:8: DeprecationWarning: use setter for headless property instead of set_headless\n",
      "  \n",
      "/opt/anaconda3/lib/python3.7/site-packages/ipykernel_launcher.py:8: DeprecationWarning: use setter for headless property instead of set_headless\n",
      "  \n",
      "/opt/anaconda3/lib/python3.7/site-packages/ipykernel_launcher.py:8: DeprecationWarning: use setter for headless property instead of set_headless\n",
      "  \n",
      "/opt/anaconda3/lib/python3.7/site-packages/ipykernel_launcher.py:8: DeprecationWarning: use setter for headless property instead of set_headless\n",
      "  \n",
      "/opt/anaconda3/lib/python3.7/site-packages/ipykernel_launcher.py:8: DeprecationWarning: use setter for headless property instead of set_headless\n",
      "  \n"
     ]
    },
    {
     "name": "stdout",
     "output_type": "stream",
     "text": [
      "Oops! <class 'selenium.common.exceptions.NoSuchWindowException'> occured at 45\n",
      "Next entry.\n",
      "\n"
     ]
    },
    {
     "name": "stderr",
     "output_type": "stream",
     "text": [
      "/opt/anaconda3/lib/python3.7/site-packages/ipykernel_launcher.py:8: DeprecationWarning: use setter for headless property instead of set_headless\n",
      "  \n",
      "/opt/anaconda3/lib/python3.7/site-packages/ipykernel_launcher.py:8: DeprecationWarning: use setter for headless property instead of set_headless\n",
      "  \n",
      "/opt/anaconda3/lib/python3.7/site-packages/ipykernel_launcher.py:8: DeprecationWarning: use setter for headless property instead of set_headless\n",
      "  \n",
      "/opt/anaconda3/lib/python3.7/site-packages/ipykernel_launcher.py:8: DeprecationWarning: use setter for headless property instead of set_headless\n",
      "  \n",
      "/opt/anaconda3/lib/python3.7/site-packages/ipykernel_launcher.py:8: DeprecationWarning: use setter for headless property instead of set_headless\n",
      "  \n",
      "/opt/anaconda3/lib/python3.7/site-packages/ipykernel_launcher.py:8: DeprecationWarning: use setter for headless property instead of set_headless\n",
      "  \n",
      "/opt/anaconda3/lib/python3.7/site-packages/ipykernel_launcher.py:8: DeprecationWarning: use setter for headless property instead of set_headless\n",
      "  \n",
      "/opt/anaconda3/lib/python3.7/site-packages/ipykernel_launcher.py:8: DeprecationWarning: use setter for headless property instead of set_headless\n",
      "  \n",
      "/opt/anaconda3/lib/python3.7/site-packages/ipykernel_launcher.py:8: DeprecationWarning: use setter for headless property instead of set_headless\n",
      "  \n",
      "/opt/anaconda3/lib/python3.7/site-packages/ipykernel_launcher.py:8: DeprecationWarning: use setter for headless property instead of set_headless\n",
      "  \n",
      "/opt/anaconda3/lib/python3.7/site-packages/ipykernel_launcher.py:8: DeprecationWarning: use setter for headless property instead of set_headless\n",
      "  \n",
      "/opt/anaconda3/lib/python3.7/site-packages/ipykernel_launcher.py:8: DeprecationWarning: use setter for headless property instead of set_headless\n",
      "  \n",
      "/opt/anaconda3/lib/python3.7/site-packages/ipykernel_launcher.py:8: DeprecationWarning: use setter for headless property instead of set_headless\n",
      "  \n",
      "/opt/anaconda3/lib/python3.7/site-packages/ipykernel_launcher.py:8: DeprecationWarning: use setter for headless property instead of set_headless\n",
      "  \n",
      "/opt/anaconda3/lib/python3.7/site-packages/ipykernel_launcher.py:8: DeprecationWarning: use setter for headless property instead of set_headless\n",
      "  \n",
      "/opt/anaconda3/lib/python3.7/site-packages/ipykernel_launcher.py:8: DeprecationWarning: use setter for headless property instead of set_headless\n",
      "  \n",
      "/opt/anaconda3/lib/python3.7/site-packages/ipykernel_launcher.py:8: DeprecationWarning: use setter for headless property instead of set_headless\n",
      "  \n",
      "/opt/anaconda3/lib/python3.7/site-packages/ipykernel_launcher.py:8: DeprecationWarning: use setter for headless property instead of set_headless\n",
      "  \n",
      "/opt/anaconda3/lib/python3.7/site-packages/ipykernel_launcher.py:8: DeprecationWarning: use setter for headless property instead of set_headless\n",
      "  \n",
      "/opt/anaconda3/lib/python3.7/site-packages/ipykernel_launcher.py:8: DeprecationWarning: use setter for headless property instead of set_headless\n",
      "  \n",
      "/opt/anaconda3/lib/python3.7/site-packages/ipykernel_launcher.py:8: DeprecationWarning: use setter for headless property instead of set_headless\n",
      "  \n",
      "/opt/anaconda3/lib/python3.7/site-packages/ipykernel_launcher.py:8: DeprecationWarning: use setter for headless property instead of set_headless\n",
      "  \n",
      "/opt/anaconda3/lib/python3.7/site-packages/ipykernel_launcher.py:8: DeprecationWarning: use setter for headless property instead of set_headless\n",
      "  \n",
      "/opt/anaconda3/lib/python3.7/site-packages/ipykernel_launcher.py:8: DeprecationWarning: use setter for headless property instead of set_headless\n",
      "  \n",
      "/opt/anaconda3/lib/python3.7/site-packages/ipykernel_launcher.py:8: DeprecationWarning: use setter for headless property instead of set_headless\n",
      "  \n",
      "/opt/anaconda3/lib/python3.7/site-packages/ipykernel_launcher.py:8: DeprecationWarning: use setter for headless property instead of set_headless\n",
      "  \n",
      "/opt/anaconda3/lib/python3.7/site-packages/ipykernel_launcher.py:8: DeprecationWarning: use setter for headless property instead of set_headless\n",
      "  \n",
      "/opt/anaconda3/lib/python3.7/site-packages/ipykernel_launcher.py:8: DeprecationWarning: use setter for headless property instead of set_headless\n",
      "  \n"
     ]
    },
    {
     "name": "stdout",
     "output_type": "stream",
     "text": [
      "Oops! <class 'KeyboardInterrupt'> occured at 73\n",
      "Next entry.\n",
      "\n",
      "Oops! <class 'KeyboardInterrupt'> occured at 74\n",
      "Next entry.\n",
      "\n"
     ]
    },
    {
     "name": "stderr",
     "output_type": "stream",
     "text": [
      "/opt/anaconda3/lib/python3.7/site-packages/ipykernel_launcher.py:8: DeprecationWarning: use setter for headless property instead of set_headless\n",
      "  \n",
      "/opt/anaconda3/lib/python3.7/site-packages/ipykernel_launcher.py:8: DeprecationWarning: use setter for headless property instead of set_headless\n",
      "  \n"
     ]
    },
    {
     "name": "stdout",
     "output_type": "stream",
     "text": [
      "Oops! <class 'KeyboardInterrupt'> occured at 75\n",
      "Next entry.\n",
      "\n"
     ]
    },
    {
     "name": "stderr",
     "output_type": "stream",
     "text": [
      "/opt/anaconda3/lib/python3.7/site-packages/ipykernel_launcher.py:8: DeprecationWarning: use setter for headless property instead of set_headless\n",
      "  \n"
     ]
    },
    {
     "name": "stdout",
     "output_type": "stream",
     "text": [
      "Oops! <class 'selenium.common.exceptions.NoSuchWindowException'> occured at 76\n",
      "Next entry.\n",
      "\n"
     ]
    },
    {
     "name": "stderr",
     "output_type": "stream",
     "text": [
      "/opt/anaconda3/lib/python3.7/site-packages/ipykernel_launcher.py:8: DeprecationWarning: use setter for headless property instead of set_headless\n",
      "  \n",
      "/opt/anaconda3/lib/python3.7/site-packages/ipykernel_launcher.py:8: DeprecationWarning: use setter for headless property instead of set_headless\n",
      "  \n",
      "/opt/anaconda3/lib/python3.7/site-packages/ipykernel_launcher.py:8: DeprecationWarning: use setter for headless property instead of set_headless\n",
      "  \n",
      "/opt/anaconda3/lib/python3.7/site-packages/ipykernel_launcher.py:8: DeprecationWarning: use setter for headless property instead of set_headless\n",
      "  \n"
     ]
    },
    {
     "name": "stdout",
     "output_type": "stream",
     "text": [
      "Oops! <class 'KeyboardInterrupt'> occured at 80\n",
      "Next entry.\n",
      "\n",
      "Oops! <class 'KeyboardInterrupt'> occured at 81\n",
      "Next entry.\n",
      "\n"
     ]
    },
    {
     "name": "stderr",
     "output_type": "stream",
     "text": [
      "/opt/anaconda3/lib/python3.7/site-packages/ipykernel_launcher.py:8: DeprecationWarning: use setter for headless property instead of set_headless\n",
      "  \n",
      "/opt/anaconda3/lib/python3.7/site-packages/ipykernel_launcher.py:8: DeprecationWarning: use setter for headless property instead of set_headless\n",
      "  \n"
     ]
    },
    {
     "name": "stdout",
     "output_type": "stream",
     "text": [
      "Oops! <class 'KeyboardInterrupt'> occured at 82\n",
      "Next entry.\n",
      "\n"
     ]
    },
    {
     "name": "stderr",
     "output_type": "stream",
     "text": [
      "/opt/anaconda3/lib/python3.7/site-packages/ipykernel_launcher.py:8: DeprecationWarning: use setter for headless property instead of set_headless\n",
      "  \n",
      "/opt/anaconda3/lib/python3.7/site-packages/ipykernel_launcher.py:8: DeprecationWarning: use setter for headless property instead of set_headless\n",
      "  \n",
      "/opt/anaconda3/lib/python3.7/site-packages/ipykernel_launcher.py:8: DeprecationWarning: use setter for headless property instead of set_headless\n",
      "  \n",
      "/opt/anaconda3/lib/python3.7/site-packages/ipykernel_launcher.py:8: DeprecationWarning: use setter for headless property instead of set_headless\n",
      "  \n",
      "/opt/anaconda3/lib/python3.7/site-packages/ipykernel_launcher.py:8: DeprecationWarning: use setter for headless property instead of set_headless\n",
      "  \n",
      "/opt/anaconda3/lib/python3.7/site-packages/ipykernel_launcher.py:8: DeprecationWarning: use setter for headless property instead of set_headless\n",
      "  \n",
      "/opt/anaconda3/lib/python3.7/site-packages/ipykernel_launcher.py:8: DeprecationWarning: use setter for headless property instead of set_headless\n",
      "  \n",
      "/opt/anaconda3/lib/python3.7/site-packages/ipykernel_launcher.py:8: DeprecationWarning: use setter for headless property instead of set_headless\n",
      "  \n",
      "/opt/anaconda3/lib/python3.7/site-packages/ipykernel_launcher.py:8: DeprecationWarning: use setter for headless property instead of set_headless\n",
      "  \n",
      "/opt/anaconda3/lib/python3.7/site-packages/ipykernel_launcher.py:8: DeprecationWarning: use setter for headless property instead of set_headless\n",
      "  \n"
     ]
    },
    {
     "name": "stdout",
     "output_type": "stream",
     "text": [
      "Oops! <class 'KeyboardInterrupt'> occured at 92\n",
      "Next entry.\n",
      "\n",
      "Oops! <class 'KeyboardInterrupt'> occured at 93\n",
      "Next entry.\n",
      "\n"
     ]
    },
    {
     "name": "stderr",
     "output_type": "stream",
     "text": [
      "/opt/anaconda3/lib/python3.7/site-packages/ipykernel_launcher.py:8: DeprecationWarning: use setter for headless property instead of set_headless\n",
      "  \n",
      "/opt/anaconda3/lib/python3.7/site-packages/ipykernel_launcher.py:8: DeprecationWarning: use setter for headless property instead of set_headless\n",
      "  \n"
     ]
    },
    {
     "name": "stdout",
     "output_type": "stream",
     "text": [
      "Oops! <class 'KeyboardInterrupt'> occured at 94\n",
      "Next entry.\n",
      "\n",
      "Oops! <class 'KeyboardInterrupt'> occured at 95\n",
      "Next entry.\n",
      "\n"
     ]
    },
    {
     "name": "stderr",
     "output_type": "stream",
     "text": [
      "/opt/anaconda3/lib/python3.7/site-packages/ipykernel_launcher.py:8: DeprecationWarning: use setter for headless property instead of set_headless\n",
      "  \n",
      "/opt/anaconda3/lib/python3.7/site-packages/ipykernel_launcher.py:8: DeprecationWarning: use setter for headless property instead of set_headless\n",
      "  \n"
     ]
    },
    {
     "name": "stdout",
     "output_type": "stream",
     "text": [
      "Oops! <class 'KeyboardInterrupt'> occured at 96\n",
      "Next entry.\n",
      "\n",
      "Oops! <class 'KeyboardInterrupt'> occured at 97\n",
      "Next entry.\n",
      "\n"
     ]
    },
    {
     "name": "stderr",
     "output_type": "stream",
     "text": [
      "/opt/anaconda3/lib/python3.7/site-packages/ipykernel_launcher.py:8: DeprecationWarning: use setter for headless property instead of set_headless\n",
      "  \n",
      "/opt/anaconda3/lib/python3.7/site-packages/ipykernel_launcher.py:8: DeprecationWarning: use setter for headless property instead of set_headless\n",
      "  \n"
     ]
    },
    {
     "name": "stdout",
     "output_type": "stream",
     "text": [
      "Oops! <class 'KeyboardInterrupt'> occured at 98\n",
      "Next entry.\n",
      "\n",
      "Oops! <class 'KeyboardInterrupt'> occured at 99\n",
      "Next entry.\n",
      "\n"
     ]
    },
    {
     "name": "stderr",
     "output_type": "stream",
     "text": [
      "/opt/anaconda3/lib/python3.7/site-packages/ipykernel_launcher.py:8: DeprecationWarning: use setter for headless property instead of set_headless\n",
      "  \n",
      "/opt/anaconda3/lib/python3.7/site-packages/ipykernel_launcher.py:8: DeprecationWarning: use setter for headless property instead of set_headless\n",
      "  \n",
      "/opt/anaconda3/lib/python3.7/site-packages/ipykernel_launcher.py:8: DeprecationWarning: use setter for headless property instead of set_headless\n",
      "  \n",
      "/opt/anaconda3/lib/python3.7/site-packages/ipykernel_launcher.py:8: DeprecationWarning: use setter for headless property instead of set_headless\n",
      "  \n",
      "/opt/anaconda3/lib/python3.7/site-packages/ipykernel_launcher.py:8: DeprecationWarning: use setter for headless property instead of set_headless\n",
      "  \n",
      "/opt/anaconda3/lib/python3.7/site-packages/ipykernel_launcher.py:8: DeprecationWarning: use setter for headless property instead of set_headless\n",
      "  \n",
      "/opt/anaconda3/lib/python3.7/site-packages/ipykernel_launcher.py:8: DeprecationWarning: use setter for headless property instead of set_headless\n",
      "  \n",
      "/opt/anaconda3/lib/python3.7/site-packages/ipykernel_launcher.py:8: DeprecationWarning: use setter for headless property instead of set_headless\n",
      "  \n",
      "/opt/anaconda3/lib/python3.7/site-packages/ipykernel_launcher.py:8: DeprecationWarning: use setter for headless property instead of set_headless\n",
      "  \n",
      "/opt/anaconda3/lib/python3.7/site-packages/ipykernel_launcher.py:8: DeprecationWarning: use setter for headless property instead of set_headless\n",
      "  \n",
      "/opt/anaconda3/lib/python3.7/site-packages/ipykernel_launcher.py:8: DeprecationWarning: use setter for headless property instead of set_headless\n",
      "  \n"
     ]
    },
    {
     "name": "stdout",
     "output_type": "stream",
     "text": [
      "Oops! <class 'KeyboardInterrupt'> occured at 109\n",
      "Next entry.\n",
      "\n",
      "Oops! <class 'KeyboardInterrupt'> occured at 110\n",
      "Next entry.\n",
      "\n"
     ]
    },
    {
     "name": "stderr",
     "output_type": "stream",
     "text": [
      "/opt/anaconda3/lib/python3.7/site-packages/ipykernel_launcher.py:8: DeprecationWarning: use setter for headless property instead of set_headless\n",
      "  \n",
      "/opt/anaconda3/lib/python3.7/site-packages/ipykernel_launcher.py:8: DeprecationWarning: use setter for headless property instead of set_headless\n",
      "  \n",
      "/opt/anaconda3/lib/python3.7/site-packages/ipykernel_launcher.py:8: DeprecationWarning: use setter for headless property instead of set_headless\n",
      "  \n",
      "/opt/anaconda3/lib/python3.7/site-packages/ipykernel_launcher.py:8: DeprecationWarning: use setter for headless property instead of set_headless\n",
      "  \n",
      "/opt/anaconda3/lib/python3.7/site-packages/ipykernel_launcher.py:8: DeprecationWarning: use setter for headless property instead of set_headless\n",
      "  \n",
      "/opt/anaconda3/lib/python3.7/site-packages/ipykernel_launcher.py:8: DeprecationWarning: use setter for headless property instead of set_headless\n",
      "  \n",
      "/opt/anaconda3/lib/python3.7/site-packages/ipykernel_launcher.py:8: DeprecationWarning: use setter for headless property instead of set_headless\n",
      "  \n",
      "/opt/anaconda3/lib/python3.7/site-packages/ipykernel_launcher.py:8: DeprecationWarning: use setter for headless property instead of set_headless\n",
      "  \n",
      "/opt/anaconda3/lib/python3.7/site-packages/ipykernel_launcher.py:8: DeprecationWarning: use setter for headless property instead of set_headless\n",
      "  \n",
      "/opt/anaconda3/lib/python3.7/site-packages/ipykernel_launcher.py:8: DeprecationWarning: use setter for headless property instead of set_headless\n",
      "  \n",
      "/opt/anaconda3/lib/python3.7/site-packages/ipykernel_launcher.py:8: DeprecationWarning: use setter for headless property instead of set_headless\n",
      "  \n",
      "/opt/anaconda3/lib/python3.7/site-packages/ipykernel_launcher.py:8: DeprecationWarning: use setter for headless property instead of set_headless\n",
      "  \n",
      "/opt/anaconda3/lib/python3.7/site-packages/ipykernel_launcher.py:8: DeprecationWarning: use setter for headless property instead of set_headless\n",
      "  \n",
      "/opt/anaconda3/lib/python3.7/site-packages/ipykernel_launcher.py:8: DeprecationWarning: use setter for headless property instead of set_headless\n",
      "  \n",
      "/opt/anaconda3/lib/python3.7/site-packages/ipykernel_launcher.py:8: DeprecationWarning: use setter for headless property instead of set_headless\n",
      "  \n"
     ]
    },
    {
     "name": "stdout",
     "output_type": "stream",
     "text": [
      "Oops! <class 'selenium.common.exceptions.NoSuchElementException'> occured at 124\n",
      "Next entry.\n",
      "\n"
     ]
    },
    {
     "name": "stderr",
     "output_type": "stream",
     "text": [
      "/opt/anaconda3/lib/python3.7/site-packages/ipykernel_launcher.py:8: DeprecationWarning: use setter for headless property instead of set_headless\n",
      "  \n",
      "/opt/anaconda3/lib/python3.7/site-packages/ipykernel_launcher.py:8: DeprecationWarning: use setter for headless property instead of set_headless\n",
      "  \n",
      "/opt/anaconda3/lib/python3.7/site-packages/ipykernel_launcher.py:8: DeprecationWarning: use setter for headless property instead of set_headless\n",
      "  \n",
      "/opt/anaconda3/lib/python3.7/site-packages/ipykernel_launcher.py:8: DeprecationWarning: use setter for headless property instead of set_headless\n",
      "  \n",
      "/opt/anaconda3/lib/python3.7/site-packages/ipykernel_launcher.py:8: DeprecationWarning: use setter for headless property instead of set_headless\n",
      "  \n",
      "/opt/anaconda3/lib/python3.7/site-packages/ipykernel_launcher.py:8: DeprecationWarning: use setter for headless property instead of set_headless\n",
      "  \n"
     ]
    },
    {
     "name": "stdout",
     "output_type": "stream",
     "text": [
      "Oops! <class 'selenium.common.exceptions.NoSuchElementException'> occured at 130\n",
      "Next entry.\n",
      "\n"
     ]
    },
    {
     "name": "stderr",
     "output_type": "stream",
     "text": [
      "/opt/anaconda3/lib/python3.7/site-packages/ipykernel_launcher.py:8: DeprecationWarning: use setter for headless property instead of set_headless\n",
      "  \n",
      "/opt/anaconda3/lib/python3.7/site-packages/ipykernel_launcher.py:8: DeprecationWarning: use setter for headless property instead of set_headless\n",
      "  \n",
      "/opt/anaconda3/lib/python3.7/site-packages/ipykernel_launcher.py:8: DeprecationWarning: use setter for headless property instead of set_headless\n",
      "  \n"
     ]
    },
    {
     "name": "stdout",
     "output_type": "stream",
     "text": [
      "Oops! <class 'KeyboardInterrupt'> occured at 133\n",
      "Next entry.\n",
      "\n",
      "Oops! <class 'KeyboardInterrupt'> occured at 134\n",
      "Next entry.\n",
      "\n"
     ]
    },
    {
     "name": "stderr",
     "output_type": "stream",
     "text": [
      "/opt/anaconda3/lib/python3.7/site-packages/ipykernel_launcher.py:8: DeprecationWarning: use setter for headless property instead of set_headless\n",
      "  \n",
      "/opt/anaconda3/lib/python3.7/site-packages/ipykernel_launcher.py:8: DeprecationWarning: use setter for headless property instead of set_headless\n",
      "  \n"
     ]
    },
    {
     "name": "stdout",
     "output_type": "stream",
     "text": [
      "Oops! <class 'KeyboardInterrupt'> occured at 135\n",
      "Next entry.\n",
      "\n",
      "Oops! <class 'KeyboardInterrupt'> occured at 136\n",
      "Next entry.\n",
      "\n"
     ]
    },
    {
     "name": "stderr",
     "output_type": "stream",
     "text": [
      "/opt/anaconda3/lib/python3.7/site-packages/ipykernel_launcher.py:8: DeprecationWarning: use setter for headless property instead of set_headless\n",
      "  \n",
      "/opt/anaconda3/lib/python3.7/site-packages/ipykernel_launcher.py:8: DeprecationWarning: use setter for headless property instead of set_headless\n",
      "  \n"
     ]
    },
    {
     "name": "stdout",
     "output_type": "stream",
     "text": [
      "Oops! <class 'KeyboardInterrupt'> occured at 137\n",
      "Next entry.\n",
      "\n"
     ]
    },
    {
     "name": "stderr",
     "output_type": "stream",
     "text": [
      "/opt/anaconda3/lib/python3.7/site-packages/ipykernel_launcher.py:8: DeprecationWarning: use setter for headless property instead of set_headless\n",
      "  \n",
      "/opt/anaconda3/lib/python3.7/site-packages/ipykernel_launcher.py:8: DeprecationWarning: use setter for headless property instead of set_headless\n",
      "  \n",
      "/opt/anaconda3/lib/python3.7/site-packages/ipykernel_launcher.py:8: DeprecationWarning: use setter for headless property instead of set_headless\n",
      "  \n",
      "/opt/anaconda3/lib/python3.7/site-packages/ipykernel_launcher.py:8: DeprecationWarning: use setter for headless property instead of set_headless\n",
      "  \n",
      "/opt/anaconda3/lib/python3.7/site-packages/ipykernel_launcher.py:8: DeprecationWarning: use setter for headless property instead of set_headless\n",
      "  \n"
     ]
    },
    {
     "name": "stdout",
     "output_type": "stream",
     "text": [
      "Oops! <class 'selenium.common.exceptions.NoSuchElementException'> occured at 142\n",
      "Next entry.\n",
      "\n"
     ]
    },
    {
     "name": "stderr",
     "output_type": "stream",
     "text": [
      "/opt/anaconda3/lib/python3.7/site-packages/ipykernel_launcher.py:8: DeprecationWarning: use setter for headless property instead of set_headless\n",
      "  \n",
      "/opt/anaconda3/lib/python3.7/site-packages/ipykernel_launcher.py:8: DeprecationWarning: use setter for headless property instead of set_headless\n",
      "  \n",
      "/opt/anaconda3/lib/python3.7/site-packages/ipykernel_launcher.py:8: DeprecationWarning: use setter for headless property instead of set_headless\n",
      "  \n",
      "/opt/anaconda3/lib/python3.7/site-packages/ipykernel_launcher.py:8: DeprecationWarning: use setter for headless property instead of set_headless\n",
      "  \n",
      "/opt/anaconda3/lib/python3.7/site-packages/ipykernel_launcher.py:8: DeprecationWarning: use setter for headless property instead of set_headless\n",
      "  \n",
      "/opt/anaconda3/lib/python3.7/site-packages/ipykernel_launcher.py:8: DeprecationWarning: use setter for headless property instead of set_headless\n",
      "  \n",
      "/opt/anaconda3/lib/python3.7/site-packages/ipykernel_launcher.py:8: DeprecationWarning: use setter for headless property instead of set_headless\n",
      "  \n",
      "/opt/anaconda3/lib/python3.7/site-packages/ipykernel_launcher.py:8: DeprecationWarning: use setter for headless property instead of set_headless\n",
      "  \n",
      "/opt/anaconda3/lib/python3.7/site-packages/ipykernel_launcher.py:8: DeprecationWarning: use setter for headless property instead of set_headless\n",
      "  \n",
      "/opt/anaconda3/lib/python3.7/site-packages/ipykernel_launcher.py:8: DeprecationWarning: use setter for headless property instead of set_headless\n",
      "  \n",
      "/opt/anaconda3/lib/python3.7/site-packages/ipykernel_launcher.py:8: DeprecationWarning: use setter for headless property instead of set_headless\n",
      "  \n",
      "/opt/anaconda3/lib/python3.7/site-packages/ipykernel_launcher.py:8: DeprecationWarning: use setter for headless property instead of set_headless\n",
      "  \n",
      "/opt/anaconda3/lib/python3.7/site-packages/ipykernel_launcher.py:8: DeprecationWarning: use setter for headless property instead of set_headless\n",
      "  \n",
      "/opt/anaconda3/lib/python3.7/site-packages/ipykernel_launcher.py:8: DeprecationWarning: use setter for headless property instead of set_headless\n",
      "  \n",
      "/opt/anaconda3/lib/python3.7/site-packages/ipykernel_launcher.py:8: DeprecationWarning: use setter for headless property instead of set_headless\n",
      "  \n",
      "/opt/anaconda3/lib/python3.7/site-packages/ipykernel_launcher.py:8: DeprecationWarning: use setter for headless property instead of set_headless\n",
      "  \n",
      "/opt/anaconda3/lib/python3.7/site-packages/ipykernel_launcher.py:8: DeprecationWarning: use setter for headless property instead of set_headless\n",
      "  \n"
     ]
    },
    {
     "name": "stdout",
     "output_type": "stream",
     "text": [
      "Oops! <class 'selenium.common.exceptions.NoSuchElementException'> occured at 159\n",
      "Next entry.\n",
      "\n"
     ]
    },
    {
     "name": "stderr",
     "output_type": "stream",
     "text": [
      "/opt/anaconda3/lib/python3.7/site-packages/ipykernel_launcher.py:8: DeprecationWarning: use setter for headless property instead of set_headless\n",
      "  \n",
      "/opt/anaconda3/lib/python3.7/site-packages/ipykernel_launcher.py:8: DeprecationWarning: use setter for headless property instead of set_headless\n",
      "  \n",
      "/opt/anaconda3/lib/python3.7/site-packages/ipykernel_launcher.py:8: DeprecationWarning: use setter for headless property instead of set_headless\n",
      "  \n",
      "/opt/anaconda3/lib/python3.7/site-packages/ipykernel_launcher.py:8: DeprecationWarning: use setter for headless property instead of set_headless\n",
      "  \n",
      "/opt/anaconda3/lib/python3.7/site-packages/ipykernel_launcher.py:8: DeprecationWarning: use setter for headless property instead of set_headless\n",
      "  \n",
      "/opt/anaconda3/lib/python3.7/site-packages/ipykernel_launcher.py:8: DeprecationWarning: use setter for headless property instead of set_headless\n",
      "  \n",
      "/opt/anaconda3/lib/python3.7/site-packages/ipykernel_launcher.py:8: DeprecationWarning: use setter for headless property instead of set_headless\n",
      "  \n",
      "/opt/anaconda3/lib/python3.7/site-packages/ipykernel_launcher.py:8: DeprecationWarning: use setter for headless property instead of set_headless\n",
      "  \n",
      "/opt/anaconda3/lib/python3.7/site-packages/ipykernel_launcher.py:8: DeprecationWarning: use setter for headless property instead of set_headless\n",
      "  \n",
      "/opt/anaconda3/lib/python3.7/site-packages/ipykernel_launcher.py:8: DeprecationWarning: use setter for headless property instead of set_headless\n",
      "  \n",
      "/opt/anaconda3/lib/python3.7/site-packages/ipykernel_launcher.py:8: DeprecationWarning: use setter for headless property instead of set_headless\n",
      "  \n"
     ]
    },
    {
     "name": "stdout",
     "output_type": "stream",
     "text": [
      "Oops! <class 'selenium.common.exceptions.NoSuchElementException'> occured at 170\n",
      "Next entry.\n",
      "\n"
     ]
    },
    {
     "name": "stderr",
     "output_type": "stream",
     "text": [
      "/opt/anaconda3/lib/python3.7/site-packages/ipykernel_launcher.py:8: DeprecationWarning: use setter for headless property instead of set_headless\n",
      "  \n",
      "/opt/anaconda3/lib/python3.7/site-packages/ipykernel_launcher.py:8: DeprecationWarning: use setter for headless property instead of set_headless\n",
      "  \n",
      "/opt/anaconda3/lib/python3.7/site-packages/ipykernel_launcher.py:8: DeprecationWarning: use setter for headless property instead of set_headless\n",
      "  \n",
      "/opt/anaconda3/lib/python3.7/site-packages/ipykernel_launcher.py:8: DeprecationWarning: use setter for headless property instead of set_headless\n",
      "  \n",
      "/opt/anaconda3/lib/python3.7/site-packages/ipykernel_launcher.py:8: DeprecationWarning: use setter for headless property instead of set_headless\n",
      "  \n",
      "/opt/anaconda3/lib/python3.7/site-packages/ipykernel_launcher.py:8: DeprecationWarning: use setter for headless property instead of set_headless\n",
      "  \n",
      "/opt/anaconda3/lib/python3.7/site-packages/ipykernel_launcher.py:8: DeprecationWarning: use setter for headless property instead of set_headless\n",
      "  \n",
      "/opt/anaconda3/lib/python3.7/site-packages/ipykernel_launcher.py:8: DeprecationWarning: use setter for headless property instead of set_headless\n",
      "  \n",
      "/opt/anaconda3/lib/python3.7/site-packages/ipykernel_launcher.py:8: DeprecationWarning: use setter for headless property instead of set_headless\n",
      "  \n",
      "/opt/anaconda3/lib/python3.7/site-packages/ipykernel_launcher.py:8: DeprecationWarning: use setter for headless property instead of set_headless\n",
      "  \n"
     ]
    },
    {
     "name": "stdout",
     "output_type": "stream",
     "text": [
      "Oops! <class 'selenium.common.exceptions.NoSuchElementException'> occured at 180\n",
      "Next entry.\n",
      "\n"
     ]
    },
    {
     "name": "stderr",
     "output_type": "stream",
     "text": [
      "/opt/anaconda3/lib/python3.7/site-packages/ipykernel_launcher.py:8: DeprecationWarning: use setter for headless property instead of set_headless\n",
      "  \n",
      "/opt/anaconda3/lib/python3.7/site-packages/ipykernel_launcher.py:8: DeprecationWarning: use setter for headless property instead of set_headless\n",
      "  \n",
      "/opt/anaconda3/lib/python3.7/site-packages/ipykernel_launcher.py:8: DeprecationWarning: use setter for headless property instead of set_headless\n",
      "  \n",
      "/opt/anaconda3/lib/python3.7/site-packages/ipykernel_launcher.py:8: DeprecationWarning: use setter for headless property instead of set_headless\n",
      "  \n",
      "/opt/anaconda3/lib/python3.7/site-packages/ipykernel_launcher.py:8: DeprecationWarning: use setter for headless property instead of set_headless\n",
      "  \n",
      "/opt/anaconda3/lib/python3.7/site-packages/ipykernel_launcher.py:8: DeprecationWarning: use setter for headless property instead of set_headless\n",
      "  \n",
      "/opt/anaconda3/lib/python3.7/site-packages/ipykernel_launcher.py:8: DeprecationWarning: use setter for headless property instead of set_headless\n",
      "  \n",
      "/opt/anaconda3/lib/python3.7/site-packages/ipykernel_launcher.py:8: DeprecationWarning: use setter for headless property instead of set_headless\n",
      "  \n"
     ]
    },
    {
     "name": "stdout",
     "output_type": "stream",
     "text": [
      "Oops! <class 'selenium.common.exceptions.NoSuchElementException'> occured at 188\n",
      "Next entry.\n",
      "\n"
     ]
    },
    {
     "name": "stderr",
     "output_type": "stream",
     "text": [
      "/opt/anaconda3/lib/python3.7/site-packages/ipykernel_launcher.py:8: DeprecationWarning: use setter for headless property instead of set_headless\n",
      "  \n",
      "/opt/anaconda3/lib/python3.7/site-packages/ipykernel_launcher.py:8: DeprecationWarning: use setter for headless property instead of set_headless\n",
      "  \n",
      "/opt/anaconda3/lib/python3.7/site-packages/ipykernel_launcher.py:8: DeprecationWarning: use setter for headless property instead of set_headless\n",
      "  \n",
      "/opt/anaconda3/lib/python3.7/site-packages/ipykernel_launcher.py:8: DeprecationWarning: use setter for headless property instead of set_headless\n",
      "  \n",
      "/opt/anaconda3/lib/python3.7/site-packages/ipykernel_launcher.py:8: DeprecationWarning: use setter for headless property instead of set_headless\n",
      "  \n",
      "/opt/anaconda3/lib/python3.7/site-packages/ipykernel_launcher.py:8: DeprecationWarning: use setter for headless property instead of set_headless\n",
      "  \n"
     ]
    },
    {
     "name": "stdout",
     "output_type": "stream",
     "text": [
      "Oops! <class 'selenium.common.exceptions.NoSuchElementException'> occured at 194\n",
      "Next entry.\n",
      "\n"
     ]
    },
    {
     "name": "stderr",
     "output_type": "stream",
     "text": [
      "/opt/anaconda3/lib/python3.7/site-packages/ipykernel_launcher.py:8: DeprecationWarning: use setter for headless property instead of set_headless\n",
      "  \n",
      "/opt/anaconda3/lib/python3.7/site-packages/ipykernel_launcher.py:8: DeprecationWarning: use setter for headless property instead of set_headless\n",
      "  \n",
      "/opt/anaconda3/lib/python3.7/site-packages/ipykernel_launcher.py:8: DeprecationWarning: use setter for headless property instead of set_headless\n",
      "  \n",
      "/opt/anaconda3/lib/python3.7/site-packages/ipykernel_launcher.py:8: DeprecationWarning: use setter for headless property instead of set_headless\n",
      "  \n",
      "/opt/anaconda3/lib/python3.7/site-packages/ipykernel_launcher.py:8: DeprecationWarning: use setter for headless property instead of set_headless\n",
      "  \n",
      "/opt/anaconda3/lib/python3.7/site-packages/ipykernel_launcher.py:8: DeprecationWarning: use setter for headless property instead of set_headless\n",
      "  \n",
      "/opt/anaconda3/lib/python3.7/site-packages/ipykernel_launcher.py:8: DeprecationWarning: use setter for headless property instead of set_headless\n",
      "  \n",
      "/opt/anaconda3/lib/python3.7/site-packages/ipykernel_launcher.py:8: DeprecationWarning: use setter for headless property instead of set_headless\n",
      "  \n",
      "/opt/anaconda3/lib/python3.7/site-packages/ipykernel_launcher.py:8: DeprecationWarning: use setter for headless property instead of set_headless\n",
      "  \n",
      "/opt/anaconda3/lib/python3.7/site-packages/ipykernel_launcher.py:8: DeprecationWarning: use setter for headless property instead of set_headless\n",
      "  \n",
      "/opt/anaconda3/lib/python3.7/site-packages/ipykernel_launcher.py:8: DeprecationWarning: use setter for headless property instead of set_headless\n",
      "  \n",
      "/opt/anaconda3/lib/python3.7/site-packages/ipykernel_launcher.py:8: DeprecationWarning: use setter for headless property instead of set_headless\n",
      "  \n",
      "/opt/anaconda3/lib/python3.7/site-packages/ipykernel_launcher.py:8: DeprecationWarning: use setter for headless property instead of set_headless\n",
      "  \n",
      "/opt/anaconda3/lib/python3.7/site-packages/ipykernel_launcher.py:8: DeprecationWarning: use setter for headless property instead of set_headless\n",
      "  \n",
      "/opt/anaconda3/lib/python3.7/site-packages/ipykernel_launcher.py:8: DeprecationWarning: use setter for headless property instead of set_headless\n",
      "  \n"
     ]
    },
    {
     "name": "stdout",
     "output_type": "stream",
     "text": [
      "Oops! <class 'KeyboardInterrupt'> occured at 209\n",
      "Next entry.\n",
      "\n",
      "Oops! <class 'KeyboardInterrupt'> occured at 210\n",
      "Next entry.\n",
      "\n"
     ]
    },
    {
     "name": "stderr",
     "output_type": "stream",
     "text": [
      "/opt/anaconda3/lib/python3.7/site-packages/ipykernel_launcher.py:8: DeprecationWarning: use setter for headless property instead of set_headless\n",
      "  \n",
      "/opt/anaconda3/lib/python3.7/site-packages/ipykernel_launcher.py:8: DeprecationWarning: use setter for headless property instead of set_headless\n",
      "  \n"
     ]
    },
    {
     "name": "stdout",
     "output_type": "stream",
     "text": [
      "Oops! <class 'KeyboardInterrupt'> occured at 211\n",
      "Next entry.\n",
      "\n",
      "Oops! <class 'KeyboardInterrupt'> occured at 212\n",
      "Next entry.\n",
      "\n"
     ]
    },
    {
     "name": "stderr",
     "output_type": "stream",
     "text": [
      "/opt/anaconda3/lib/python3.7/site-packages/ipykernel_launcher.py:8: DeprecationWarning: use setter for headless property instead of set_headless\n",
      "  \n",
      "/opt/anaconda3/lib/python3.7/site-packages/ipykernel_launcher.py:8: DeprecationWarning: use setter for headless property instead of set_headless\n",
      "  \n"
     ]
    },
    {
     "name": "stdout",
     "output_type": "stream",
     "text": [
      "Oops! <class 'KeyboardInterrupt'> occured at 213\n",
      "Next entry.\n",
      "\n",
      "Oops! <class 'KeyboardInterrupt'> occured at 214\n",
      "Next entry.\n",
      "\n"
     ]
    },
    {
     "name": "stderr",
     "output_type": "stream",
     "text": [
      "/opt/anaconda3/lib/python3.7/site-packages/ipykernel_launcher.py:8: DeprecationWarning: use setter for headless property instead of set_headless\n",
      "  \n",
      "/opt/anaconda3/lib/python3.7/site-packages/ipykernel_launcher.py:8: DeprecationWarning: use setter for headless property instead of set_headless\n",
      "  \n"
     ]
    }
   ],
   "source": [
    "with tqdm_notebook(range(1536)) as pbar:\n",
    "    for index, row in cities_list_new.iterrows():\n",
    "        my_city= row['locality'] + \", \" + row['administrative_area_level_1'] + \", \" + row['country']\n",
    "        pbar.update()\n",
    "        \n",
    "        try:\n",
    "            opts = Options()\n",
    "            opts.set_headless()\n",
    "            assert opts.headless  # Operating in headless mode\n",
    "            options = ChromeOptions()\n",
    "            options.add_argument('--headless')\n",
    "            options.add_argument('--ignore-certificate-errors')\n",
    "            options.add_argument(\"--test-type\")\n",
    "            browser = Chrome(chrome_options=options)\n",
    "            browser.get('https://nominatim.openstreetmap.org/')\n",
    "            \n",
    "            \"\"\"search the name of the city\"\"\"\n",
    "            search_form = browser.find_element_by_id('q')\n",
    "            search_form.send_keys(my_city)\n",
    "            search_form.submit()\n",
    "            time.sleep(2)\n",
    "            \n",
    "            \"\"\"click on details to get relation number\"\"\"\n",
    "            result_link=browser.current_url\n",
    "            browser.get(result_link)\n",
    "            browser.find_element_by_xpath(\"//img[contains(@src, 'https://nominatim.openstreetmap.org/images/mapicons/poi_boundary_administrative.p.20.png')]\").click()\n",
    "            details_button=browser.find_element_by_link_text(\"details\")\n",
    "            details_button.click()\n",
    "            \n",
    "            \"\"\"get details page and read it\"\"\"\n",
    "            details_link=browser.current_url\n",
    "            response = requests.get(details_link)  \n",
    "            soup = BeautifulSoup(response.text, \"html.parser\")\n",
    "            OSM_relation=soup.find_all(\"td\")[17].get_text()\n",
    "            relation_number_i=''.join(re.findall(\"\\d+\", OSM_relation))\n",
    "            row['relation_number']=relation_number_i\n",
    "            \n",
    "            browser.quit()\n",
    "            \n",
    "        except:\n",
    "            print(\"Oops!\",sys.exc_info()[0],\"occured at {}\".format(index))\n",
    "            print(\"Next entry.\")\n",
    "            print()\n",
    "            browser.quit()\n",
    "            "
   ]
  },
  {
   "cell_type": "code",
   "execution_count": 6,
   "metadata": {},
   "outputs": [
    {
     "data": {
      "text/html": [
       "<div>\n",
       "<style scoped>\n",
       "    .dataframe tbody tr th:only-of-type {\n",
       "        vertical-align: middle;\n",
       "    }\n",
       "\n",
       "    .dataframe tbody tr th {\n",
       "        vertical-align: top;\n",
       "    }\n",
       "\n",
       "    .dataframe thead th {\n",
       "        text-align: right;\n",
       "    }\n",
       "</style>\n",
       "<table border=\"1\" class=\"dataframe\">\n",
       "  <thead>\n",
       "    <tr style=\"text-align: right;\">\n",
       "      <th></th>\n",
       "      <th>Phone number</th>\n",
       "      <th>Fax</th>\n",
       "      <th>Email</th>\n",
       "      <th>Website</th>\n",
       "      <th>Address</th>\n",
       "      <th>locality</th>\n",
       "      <th>administrative_area_level_2</th>\n",
       "      <th>administrative_area_level_1</th>\n",
       "      <th>country</th>\n",
       "      <th>relation_number</th>\n",
       "    </tr>\n",
       "  </thead>\n",
       "  <tbody>\n",
       "    <tr>\n",
       "      <th>0</th>\n",
       "      <td>049 36 74 18</td>\n",
       "      <td>049 96 72 89</td>\n",
       "      <td>www.communeadrar@hotmail.com</td>\n",
       "      <td>communeadrar.dz</td>\n",
       "      <td>ADRAR</td>\n",
       "      <td>Adrar</td>\n",
       "      <td>Adrar</td>\n",
       "      <td>Adrar</td>\n",
       "      <td>Algeria</td>\n",
       "      <td>4171602</td>\n",
       "    </tr>\n",
       "    <tr>\n",
       "      <th>1</th>\n",
       "      <td>049.94.61.61</td>\n",
       "      <td>049.94.61.62</td>\n",
       "      <td>tamesttm@gmail.com</td>\n",
       "      <td>NaN</td>\n",
       "      <td>TAMEST</td>\n",
       "      <td>Tamest</td>\n",
       "      <td>Fenoughil</td>\n",
       "      <td>Adrar</td>\n",
       "      <td>Algeria</td>\n",
       "      <td>4171622</td>\n",
       "    </tr>\n",
       "    <tr>\n",
       "      <th>2</th>\n",
       "      <td>049.90.62.01</td>\n",
       "      <td>049.90.64.07</td>\n",
       "      <td>apccharouine@gmail.com</td>\n",
       "      <td>NaN</td>\n",
       "      <td>CHAROUINE</td>\n",
       "      <td>Charouine</td>\n",
       "      <td>Charouine</td>\n",
       "      <td>Adrar</td>\n",
       "      <td>Algeria</td>\n",
       "      <td>4171610</td>\n",
       "    </tr>\n",
       "    <tr>\n",
       "      <th>3</th>\n",
       "      <td>049.97.00.70</td>\n",
       "      <td>049.97.04.89</td>\n",
       "      <td>communereggane@gmail.com</td>\n",
       "      <td>NaN</td>\n",
       "      <td>REGGANE</td>\n",
       "      <td>Reggane</td>\n",
       "      <td>Reggane</td>\n",
       "      <td>Adrar</td>\n",
       "      <td>Algeria</td>\n",
       "      <td>4171617</td>\n",
       "    </tr>\n",
       "    <tr>\n",
       "      <th>4</th>\n",
       "      <td>049 97 24 97</td>\n",
       "      <td>049 97 23 87</td>\n",
       "      <td>commune.inzegmir.adrar@gmail.com</td>\n",
       "      <td>NaN</td>\n",
       "      <td>TIDMAIN</td>\n",
       "      <td>In Zghmir</td>\n",
       "      <td>Zaouiat Kounta</td>\n",
       "      <td>Adrar</td>\n",
       "      <td>Algeria</td>\n",
       "      <td>4171611</td>\n",
       "    </tr>\n",
       "  </tbody>\n",
       "</table>\n",
       "</div>"
      ],
      "text/plain": [
       "   Phone number           Fax                             Email  \\\n",
       "0  049 36 74 18  049 96 72 89      www.communeadrar@hotmail.com   \n",
       "1  049.94.61.61  049.94.61.62                tamesttm@gmail.com   \n",
       "2  049.90.62.01  049.90.64.07            apccharouine@gmail.com   \n",
       "3  049.97.00.70  049.97.04.89          communereggane@gmail.com   \n",
       "4  049 97 24 97  049 97 23 87  commune.inzegmir.adrar@gmail.com   \n",
       "\n",
       "           Website    Address   locality administrative_area_level_2  \\\n",
       "0  communeadrar.dz      ADRAR      Adrar                       Adrar   \n",
       "1              NaN     TAMEST     Tamest                   Fenoughil   \n",
       "2              NaN  CHAROUINE  Charouine                   Charouine   \n",
       "3              NaN    REGGANE    Reggane                     Reggane   \n",
       "4              NaN    TIDMAIN  In Zghmir              Zaouiat Kounta   \n",
       "\n",
       "  administrative_area_level_1  country relation_number  \n",
       "0                       Adrar  Algeria         4171602  \n",
       "1                       Adrar  Algeria         4171622  \n",
       "2                       Adrar  Algeria         4171610  \n",
       "3                       Adrar  Algeria         4171617  \n",
       "4                       Adrar  Algeria         4171611  "
      ]
     },
     "execution_count": 6,
     "metadata": {},
     "output_type": "execute_result"
    }
   ],
   "source": [
    "cities_list_new.head()"
   ]
  },
  {
   "cell_type": "code",
   "execution_count": 7,
   "metadata": {},
   "outputs": [
    {
     "data": {
      "text/html": [
       "<div>\n",
       "<style scoped>\n",
       "    .dataframe tbody tr th:only-of-type {\n",
       "        vertical-align: middle;\n",
       "    }\n",
       "\n",
       "    .dataframe tbody tr th {\n",
       "        vertical-align: top;\n",
       "    }\n",
       "\n",
       "    .dataframe thead th {\n",
       "        text-align: right;\n",
       "    }\n",
       "</style>\n",
       "<table border=\"1\" class=\"dataframe\">\n",
       "  <thead>\n",
       "    <tr style=\"text-align: right;\">\n",
       "      <th></th>\n",
       "      <th>Phone number</th>\n",
       "      <th>Fax</th>\n",
       "      <th>Email</th>\n",
       "      <th>Website</th>\n",
       "      <th>Address</th>\n",
       "      <th>locality</th>\n",
       "      <th>administrative_area_level_2</th>\n",
       "      <th>administrative_area_level_1</th>\n",
       "      <th>country</th>\n",
       "      <th>relation_number</th>\n",
       "    </tr>\n",
       "  </thead>\n",
       "  <tbody>\n",
       "    <tr>\n",
       "      <th>1530</th>\n",
       "      <td>046 85 31 10</td>\n",
       "      <td>046 85 31 26</td>\n",
       "      <td>NaN</td>\n",
       "      <td>www.apc.hadechkala.dz</td>\n",
       "      <td>COMMUNE HAD ECHKALLA</td>\n",
       "      <td>Had Echkalla</td>\n",
       "      <td>Ain Tarek</td>\n",
       "      <td>Relizane</td>\n",
       "      <td>Algeria</td>\n",
       "      <td>6559390</td>\n",
       "    </tr>\n",
       "    <tr>\n",
       "      <th>1531</th>\n",
       "      <td>046 74 92 33</td>\n",
       "      <td>046 74 92 32</td>\n",
       "      <td>bendaoud4835@hotmail.com</td>\n",
       "      <td>NaN</td>\n",
       "      <td>RUE DES FRERES AHSEN BENDAOUD</td>\n",
       "      <td>Bendaoud</td>\n",
       "      <td>Relizane</td>\n",
       "      <td>Relizane</td>\n",
       "      <td>Algeria</td>\n",
       "      <td>6559349</td>\n",
       "    </tr>\n",
       "    <tr>\n",
       "      <th>1532</th>\n",
       "      <td>046 84 91 18</td>\n",
       "      <td>046 84 91 28</td>\n",
       "      <td>elouldja4836@gmail.com</td>\n",
       "      <td></td>\n",
       "      <td>Commune Ouldja Daira Ammi Moussa W Relizane</td>\n",
       "      <td>El Ouldja</td>\n",
       "      <td>Ammi Moussa</td>\n",
       "      <td>Relizane</td>\n",
       "      <td>Algeria</td>\n",
       "      <td>6559386</td>\n",
       "    </tr>\n",
       "    <tr>\n",
       "      <th>1533</th>\n",
       "      <td>046 84 61 69</td>\n",
       "      <td>046 84 61 68</td>\n",
       "      <td>apcmerj@gmail.com</td>\n",
       "      <td>NaN</td>\n",
       "      <td>Cité 05 juillet 1962</td>\n",
       "      <td>Merdja Sidi Abed</td>\n",
       "      <td>Oued Rhiou</td>\n",
       "      <td>Relizane</td>\n",
       "      <td>Algeria</td>\n",
       "      <td>6559408</td>\n",
       "    </tr>\n",
       "    <tr>\n",
       "      <th>1534</th>\n",
       "      <td>046 83 51 02</td>\n",
       "      <td>046 83 51 01</td>\n",
       "      <td>ouledsidimihoub4838@gmail.com</td>\n",
       "      <td>NaN</td>\n",
       "      <td>RUE TAHRI ABDELKADER</td>\n",
       "      <td>Ouled Sidi Mihoub</td>\n",
       "      <td>Djidiouia</td>\n",
       "      <td>Relizane</td>\n",
       "      <td>Algeria</td>\n",
       "      <td>6559413</td>\n",
       "    </tr>\n",
       "  </tbody>\n",
       "</table>\n",
       "</div>"
      ],
      "text/plain": [
       "       Phone number           Fax                          Email  \\\n",
       "1530   046 85 31 10  046 85 31 26                            NaN   \n",
       "1531  046 74 92 33   046 74 92 32       bendaoud4835@hotmail.com   \n",
       "1532   046 84 91 18  046 84 91 28         elouldja4836@gmail.com   \n",
       "1533   046 84 61 69  046 84 61 68              apcmerj@gmail.com   \n",
       "1534   046 83 51 02  046 83 51 01  ouledsidimihoub4838@gmail.com   \n",
       "\n",
       "                    Website                                      Address  \\\n",
       "1530  www.apc.hadechkala.dz                         COMMUNE HAD ECHKALLA   \n",
       "1531                    NaN                RUE DES FRERES AHSEN BENDAOUD   \n",
       "1532                         Commune Ouldja Daira Ammi Moussa W Relizane   \n",
       "1533                    NaN                         Cité 05 juillet 1962   \n",
       "1534                    NaN                         RUE TAHRI ABDELKADER   \n",
       "\n",
       "               locality administrative_area_level_2  \\\n",
       "1530       Had Echkalla                   Ain Tarek   \n",
       "1531           Bendaoud                    Relizane   \n",
       "1532          El Ouldja                 Ammi Moussa   \n",
       "1533   Merdja Sidi Abed                  Oued Rhiou   \n",
       "1534  Ouled Sidi Mihoub                   Djidiouia   \n",
       "\n",
       "     administrative_area_level_1  country relation_number  \n",
       "1530                    Relizane  Algeria         6559390  \n",
       "1531                    Relizane  Algeria         6559349  \n",
       "1532                    Relizane  Algeria         6559386  \n",
       "1533                    Relizane  Algeria         6559408  \n",
       "1534                    Relizane  Algeria         6559413  "
      ]
     },
     "execution_count": 7,
     "metadata": {},
     "output_type": "execute_result"
    }
   ],
   "source": [
    "cities_list_new.tail()"
   ]
  },
  {
   "cell_type": "code",
   "execution_count": 8,
   "metadata": {},
   "outputs": [],
   "source": [
    "cities_list_new.to_csv(\"serial_number_cities.csv\")"
   ]
  },
  {
   "cell_type": "code",
   "execution_count": 13,
   "metadata": {},
   "outputs": [],
   "source": [
    "cities_list_new.reset_index(level=0, inplace=True)\n",
    "cities_list_new.to_json(r'serial_number_cities.json',orient='records')"
   ]
  },
  {
   "cell_type": "code",
   "execution_count": 14,
   "metadata": {},
   "outputs": [],
   "source": [
    "df = pd.read_csv('serial_number_cities.csv')"
   ]
  },
  {
   "cell_type": "code",
   "execution_count": 15,
   "metadata": {},
   "outputs": [
    {
     "data": {
      "text/html": [
       "<div>\n",
       "<style scoped>\n",
       "    .dataframe tbody tr th:only-of-type {\n",
       "        vertical-align: middle;\n",
       "    }\n",
       "\n",
       "    .dataframe tbody tr th {\n",
       "        vertical-align: top;\n",
       "    }\n",
       "\n",
       "    .dataframe thead th {\n",
       "        text-align: right;\n",
       "    }\n",
       "</style>\n",
       "<table border=\"1\" class=\"dataframe\">\n",
       "  <thead>\n",
       "    <tr style=\"text-align: right;\">\n",
       "      <th></th>\n",
       "      <th>Unnamed: 0</th>\n",
       "      <th>Phone number</th>\n",
       "      <th>Fax</th>\n",
       "      <th>Email</th>\n",
       "      <th>Website</th>\n",
       "      <th>Address</th>\n",
       "      <th>locality</th>\n",
       "      <th>administrative_area_level_2</th>\n",
       "      <th>administrative_area_level_1</th>\n",
       "      <th>country</th>\n",
       "      <th>relation_number</th>\n",
       "    </tr>\n",
       "  </thead>\n",
       "  <tbody>\n",
       "    <tr>\n",
       "      <th>0</th>\n",
       "      <td>0</td>\n",
       "      <td>049 36 74 18</td>\n",
       "      <td>049 96 72 89</td>\n",
       "      <td>communeadrar@hotmail.com</td>\n",
       "      <td>communeadrar.dz</td>\n",
       "      <td>ADRAR</td>\n",
       "      <td>Adrar</td>\n",
       "      <td>Adrar</td>\n",
       "      <td>Adrar</td>\n",
       "      <td>Algeria</td>\n",
       "      <td>4171602</td>\n",
       "    </tr>\n",
       "    <tr>\n",
       "      <th>1</th>\n",
       "      <td>1</td>\n",
       "      <td>049.94.61.61</td>\n",
       "      <td>049.94.61.62</td>\n",
       "      <td>tamesttm@gmail.com</td>\n",
       "      <td>NaN</td>\n",
       "      <td>TAMEST</td>\n",
       "      <td>Tamest</td>\n",
       "      <td>Fenoughil</td>\n",
       "      <td>Adrar</td>\n",
       "      <td>Algeria</td>\n",
       "      <td>4171622</td>\n",
       "    </tr>\n",
       "    <tr>\n",
       "      <th>2</th>\n",
       "      <td>2</td>\n",
       "      <td>049.90.62.01</td>\n",
       "      <td>049.90.64.07</td>\n",
       "      <td>apccharouine@gmail.com</td>\n",
       "      <td>NaN</td>\n",
       "      <td>CHAROUINE</td>\n",
       "      <td>Charouine</td>\n",
       "      <td>Charouine</td>\n",
       "      <td>Adrar</td>\n",
       "      <td>Algeria</td>\n",
       "      <td>4171610</td>\n",
       "    </tr>\n",
       "    <tr>\n",
       "      <th>3</th>\n",
       "      <td>3</td>\n",
       "      <td>049.97.00.70</td>\n",
       "      <td>049.97.04.89</td>\n",
       "      <td>communereggane@gmail.com</td>\n",
       "      <td>NaN</td>\n",
       "      <td>REGGANE</td>\n",
       "      <td>Reggane</td>\n",
       "      <td>Reggane</td>\n",
       "      <td>Adrar</td>\n",
       "      <td>Algeria</td>\n",
       "      <td>4171617</td>\n",
       "    </tr>\n",
       "    <tr>\n",
       "      <th>4</th>\n",
       "      <td>4</td>\n",
       "      <td>049 97 24 97</td>\n",
       "      <td>049 97 23 87</td>\n",
       "      <td>commune.inzegmir.adrar@gmail.com</td>\n",
       "      <td>NaN</td>\n",
       "      <td>TIDMAIN</td>\n",
       "      <td>In Zghmir</td>\n",
       "      <td>Zaouiat Kounta</td>\n",
       "      <td>Adrar</td>\n",
       "      <td>Algeria</td>\n",
       "      <td>4171611</td>\n",
       "    </tr>\n",
       "  </tbody>\n",
       "</table>\n",
       "</div>"
      ],
      "text/plain": [
       "   Unnamed: 0  Phone number           Fax                             Email  \\\n",
       "0           0  049 36 74 18  049 96 72 89          communeadrar@hotmail.com   \n",
       "1           1  049.94.61.61  049.94.61.62                tamesttm@gmail.com   \n",
       "2           2  049.90.62.01  049.90.64.07            apccharouine@gmail.com   \n",
       "3           3  049.97.00.70  049.97.04.89          communereggane@gmail.com   \n",
       "4           4  049 97 24 97  049 97 23 87  commune.inzegmir.adrar@gmail.com   \n",
       "\n",
       "           Website    Address   locality administrative_area_level_2  \\\n",
       "0  communeadrar.dz      ADRAR      Adrar                       Adrar   \n",
       "1              NaN     TAMEST     Tamest                   Fenoughil   \n",
       "2              NaN  CHAROUINE  Charouine                   Charouine   \n",
       "3              NaN    REGGANE    Reggane                     Reggane   \n",
       "4              NaN    TIDMAIN  In Zghmir              Zaouiat Kounta   \n",
       "\n",
       "  administrative_area_level_1  country  relation_number  \n",
       "0                       Adrar  Algeria          4171602  \n",
       "1                       Adrar  Algeria          4171622  \n",
       "2                       Adrar  Algeria          4171610  \n",
       "3                       Adrar  Algeria          4171617  \n",
       "4                       Adrar  Algeria          4171611  "
      ]
     },
     "execution_count": 15,
     "metadata": {},
     "output_type": "execute_result"
    }
   ],
   "source": [
    "df.head()"
   ]
  },
  {
   "cell_type": "code",
   "execution_count": 16,
   "metadata": {},
   "outputs": [],
   "source": [
    "df.to_json('cities.json', orient='records')"
   ]
  },
  {
   "cell_type": "markdown",
   "metadata": {},
   "source": [
    "## Webscrap for Wilaya's"
   ]
  },
  {
   "cell_type": "code",
   "execution_count": 12,
   "metadata": {},
   "outputs": [],
   "source": [
    "list_wilayas = [\"Adrar\", \"Chlef\", \"Laghouat\", \"Oum El Bouaghi\", \"Batna\", \"Béjaïa\", \"Biskra\", \"Béchar\", \"Blida\", \n",
    "                \"Bouira\", \"Tamanrasset\", \"Tébessa\", \"Tlemcen\", \"Tiaret\", \"Tizi Ouzou\", \"Alger\", \"Djelfa\",\n",
    "                \"Jijel\", \"Sétif\", \"Saïda\", \"Skikda\", \"Sidi Bel Abbès\", \"Annaba\", \"Guelma\", \"Constantine\",\n",
    "                \"Médéa\", \"Mostaganem\", \"M'Sila\", \"Mascara\", \"Ouargla\", \"Oran\", \"El Bayadh\", \"Illizi\",\n",
    "                \"Bordj Bou Arreridj\", \"Boumerdès\", \"El Tarf\", \"Tindouf\", \"Tissemsilt\", \"El Oued\", \"Khenchela\",\n",
    "                \"Souk Ahras\", \"Tipaza\", \"Mila\", \"Aïn Defla\", \"Naâma\", \"Aïn Témouchent\", \"Ghardaïa\", \"Relizane\",\n",
    "                \"El M'Ghair\", \"ElMeniaa\", \"Ouled Djellal\", \"Bordj Baji Mokhtar\", \"Béni Abbès\", \"Timimoun\", \n",
    "                \"Touggourt\", \"Djanet\", \"In Salah\", \"In Guezzam\"]"
   ]
  },
  {
   "cell_type": "code",
   "execution_count": 13,
   "metadata": {},
   "outputs": [
    {
     "name": "stdout",
     "output_type": "stream",
     "text": [
      "Oops! <class 'selenium.common.exceptions.NoSuchElementException'> occured at OumElBouaghi\n",
      "Next entry.\n",
      "Oops! <class 'selenium.common.exceptions.NoSuchElementException'> occured at Bouira\n",
      "Next entry.\n",
      "Oops! <class 'selenium.common.exceptions.NoSuchElementException'> occured at ElMeniaa\n",
      "Next entry.\n",
      "Oops! <class 'selenium.common.exceptions.NoSuchElementException'> occured at Bordj Baji Mokhtar\n",
      "Next entry.\n"
     ]
    }
   ],
   "source": [
    "result_list = []\n",
    "\n",
    "for wilaya in list_wilayas:\n",
    "    try:\n",
    "        options = ChromeOptions()\n",
    "        options.add_argument('--headless')\n",
    "        options.add_argument('--ignore-certificate-errors')\n",
    "        options.add_argument(\"--test-type\")\n",
    "        browser = Chrome()\n",
    "        browser.get('https://nominatim.openstreetmap.org/')\n",
    "    \n",
    "        \"\"\"search the name of the city\"\"\"\n",
    "        search_form = browser.find_element_by_id('q')\n",
    "        search_form.send_keys(wilaya)\n",
    "        search_form.submit()\n",
    "        time.sleep(2)\n",
    "\n",
    "        \"\"\"click on details to get relation number\"\"\"\n",
    "        result_link=browser.current_url\n",
    "        browser.get(result_link)\n",
    "        browser.find_element_by_xpath(\"//img[contains(@src, 'https://nominatim.openstreetmap.org/images/mapicons/poi_boundary_administrative.p.20.png')]\").click()\n",
    "        details_button=browser.find_element_by_link_text(\"details\")\n",
    "        details_button.click()\n",
    "\n",
    "        \"\"\"get details page and read it\"\"\"\n",
    "        details_link=browser.current_url\n",
    "        response = requests.get(details_link)  \n",
    "        soup = BeautifulSoup(response.text, \"html.parser\")\n",
    "        OSM_relation=soup.find_all(\"td\")[17].get_text()\n",
    "        relation_number_i=''.join(re.findall(\"\\d+\", OSM_relation))\n",
    "        result_list.append(relation_number_i)\n",
    "\n",
    "        browser.quit()\n",
    "            \n",
    "    except:\n",
    "        print(\"Oops!\",sys.exc_info()[0],\"occured at {}\".format(wilaya))\n",
    "        print(\"Next entry.\")\n",
    "        result_list.append('failed')\n",
    "        browser.quit()\n",
    "    "
   ]
  },
  {
   "cell_type": "code",
   "execution_count": 31,
   "metadata": {},
   "outputs": [],
   "source": [
    "results = [list_wilayas, result_list]"
   ]
  },
  {
   "cell_type": "code",
   "execution_count": 32,
   "metadata": {},
   "outputs": [],
   "source": [
    "import numpy as np\n",
    "wilayas_OSM = pd.DataFrame(data=np.asarray(results).T, columns=['Wilaya', 'OSM_number'])"
   ]
  },
  {
   "cell_type": "code",
   "execution_count": 33,
   "metadata": {},
   "outputs": [],
   "source": [
    "wilayas_OSM.to_csv('wilayas_osm.csv', index=False)"
   ]
  },
  {
   "cell_type": "code",
   "execution_count": null,
   "metadata": {},
   "outputs": [],
   "source": []
  },
  {
   "cell_type": "code",
   "execution_count": null,
   "metadata": {},
   "outputs": [],
   "source": []
  },
  {
   "cell_type": "code",
   "execution_count": null,
   "metadata": {},
   "outputs": [],
   "source": []
  },
  {
   "cell_type": "code",
   "execution_count": null,
   "metadata": {},
   "outputs": [],
   "source": [
    "print([element.get_attribute('src') for element in browser.find_element_by_css_selector('[alt=\"icon\"]')])"
   ]
  },
  {
   "cell_type": "code",
   "execution_count": null,
   "metadata": {},
   "outputs": [],
   "source": [
    "print(icon_select)"
   ]
  },
  {
   "cell_type": "code",
   "execution_count": null,
   "metadata": {},
   "outputs": [],
   "source": [
    "my_city= cities_list_new['locality'][0] + \", daïra \" + cities_list_new['administrative_area_level_2'][0] + \", \" + cities_list_new['administrative_area_level_1'][0] + \", \" + cities_list_new['country'][0]\n",
    "print(my_city)"
   ]
  },
  {
   "cell_type": "code",
   "execution_count": null,
   "metadata": {},
   "outputs": [],
   "source": []
  },
  {
   "cell_type": "code",
   "execution_count": null,
   "metadata": {},
   "outputs": [],
   "source": []
  },
  {
   "cell_type": "code",
   "execution_count": null,
   "metadata": {},
   "outputs": [],
   "source": [
    "details_button=browser.find_element_by_link_text(\"details\")\n",
    "details_button.click()"
   ]
  },
  {
   "cell_type": "code",
   "execution_count": null,
   "metadata": {},
   "outputs": [],
   "source": [
    "details_link=browser.current_url\n",
    "\n",
    "url = details_link\n",
    "response = requests.get(url)  \n",
    "soup = BeautifulSoup(response.text, \"html.parser\")\n",
    "  \n",
    "OSM_relation=soup.find_all(\"td\")\n",
    "        "
   ]
  },
  {
   "cell_type": "code",
   "execution_count": null,
   "metadata": {},
   "outputs": [],
   "source": [
    "print(OSM_relation)"
   ]
  },
  {
   "cell_type": "code",
   "execution_count": null,
   "metadata": {},
   "outputs": [],
   "source": [
    "relation_number=OSM_relation[17].get_text()\n",
    "relation_number=''.join(re.findall(\"\\d+\", relation_number))"
   ]
  },
  {
   "cell_type": "code",
   "execution_count": null,
   "metadata": {},
   "outputs": [],
   "source": [
    "print(relation_number)"
   ]
  },
  {
   "cell_type": "code",
   "execution_count": null,
   "metadata": {},
   "outputs": [],
   "source": [
    "browser.get(\"http://polygons.openstreetmap.fr/index.py\")\n",
    "search_polygon= browser.find_element_by_name(\"id\")\n",
    "search_pol ygon.send_keys('4171602')\n",
    "submit_button=browser.find_element_by_xpath(\"//input[@type='submit']\")\n",
    "submit_button.click()"
   ]
  },
  {
   "cell_type": "code",
   "execution_count": null,
   "metadata": {},
   "outputs": [],
   "source": [
    "print(search_polygon)"
   ]
  },
  {
   "cell_type": "code",
   "execution_count": null,
   "metadata": {},
   "outputs": [],
   "source": [
    "browser.close()"
   ]
  },
  {
   "cell_type": "code",
   "execution_count": null,
   "metadata": {},
   "outputs": [],
   "source": [
    "pd.read_csv('list_cities.csv').head()"
   ]
  },
  {
   "cell_type": "code",
   "execution_count": null,
   "metadata": {},
   "outputs": [],
   "source": [
    "pd.read_json(\"list_cities.json\").tail(5)"
   ]
  },
  {
   "cell_type": "code",
   "execution_count": null,
   "metadata": {},
   "outputs": [],
   "source": []
  }
 ],
 "metadata": {
  "kernelspec": {
   "display_name": "Python 3",
   "language": "python",
   "name": "python3"
  },
  "language_info": {
   "codemirror_mode": {
    "name": "ipython",
    "version": 3
   },
   "file_extension": ".py",
   "mimetype": "text/x-python",
   "name": "python",
   "nbconvert_exporter": "python",
   "pygments_lexer": "ipython3",
   "version": "3.7.4"
  }
 },
 "nbformat": 4,
 "nbformat_minor": 2
}
